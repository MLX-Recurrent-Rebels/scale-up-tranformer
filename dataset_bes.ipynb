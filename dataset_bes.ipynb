{
 "cells": [
  {
   "cell_type": "code",
   "execution_count": 8,
   "id": "0ef29f70-c4af-461d-bebd-90c918320420",
   "metadata": {},
   "outputs": [
    {
     "name": "stderr",
     "output_type": "stream",
     "text": [
      "Repo card metadata block was not found. Setting CardData to empty.\n"
     ]
    },
    {
     "name": "stdout",
     "output_type": "stream",
     "text": [
      "ds.ds DatasetDict({\n",
      "    train: Dataset({\n",
      "        features: ['text'],\n",
      "        num_rows: 2119719\n",
      "    })\n",
      "    validation: Dataset({\n",
      "        features: ['text'],\n",
      "        num_rows: 21990\n",
      "    })\n",
      "})\n",
      "len(ds) 2119719\n",
      "ds[362] {'input': tensor([   1,   56,   54,   60,    8,   37,   39,    9,  140,  849, 2965,    3,\n",
      "          18, 2965,    9,  151,  578,  686,    4,  686,    3,   56,    0, 4165,\n",
      "         135,   26,   10, 2128,    3,   18,  849, 2965, 2128,  181,  248,    3,\n",
      "        2529, 2585, 1064,   28,    6,  849, 2965,    9,  240, 5654,    4,  578,\n",
      "         686,    3,  644,    6,  248,  849, 2965,   24,   30, 1110,  700,    6,\n",
      "         477,    3,   73,  120,  108, 5389,  400,    3,  487,   45,  910, 7102,\n",
      "          28,  624,  134,  139,  112,    6,  228,    4,  555,    6,  248,  849,\n",
      "        2965,   24,   22,  939,    3,   18,  849, 2965,   24,   79,    4,  102,\n",
      "           7,  573,    4,  676,   20,    6,  939,    3,  205,   27,   26,   33,\n",
      "           5,    6,  849, 2965,   24,  191, 2128,  118,    4,  151,  580,  109,\n",
      "           3]), 'label': tensor([  56,   54,   60,    8,   37,   39,    9,  140,  849, 2965,    3,   18,\n",
      "        2965,    9,  151,  578,  686,    4,  686,    3,   56,    0, 4165,  135,\n",
      "          26,   10, 2128,    3,   18,  849, 2965, 2128,  181,  248,    3, 2529,\n",
      "        2585, 1064,   28,    6,  849, 2965,    9,  240, 5654,    4,  578,  686,\n",
      "           3,  644,    6,  248,  849, 2965,   24,   30, 1110,  700,    6,  477,\n",
      "           3,   73,  120,  108, 5389,  400,    3,  487,   45,  910, 7102,   28,\n",
      "         624,  134,  139,  112,    6,  228,    4,  555,    6,  248,  849, 2965,\n",
      "          24,   22,  939,    3,   18,  849, 2965,   24,   79,    4,  102,    7,\n",
      "         573,    4,  676,   20,    6,  939,    3,  205,   27,   26,   33,    5,\n",
      "           6,  849, 2965,   24,  191, 2128,  118,    4,  151,  580,  109,    3,\n",
      "           2])}\n"
     ]
    }
   ],
   "source": [
    "#%%\n",
    "import torch\n",
    "import tokenizer_bes\n",
    "import datasets\n",
    "\n",
    "\n",
    "class TinyDataset(torch.utils.data.Dataset):\n",
    "  def __init__(self):\n",
    "    self.ds = datasets.load_dataset(\"roneneldan/TinyStories\")\n",
    "    self.tk = tokenizer_bes.TinyTokenizer()\n",
    "    self.tk.load()\n",
    "\n",
    "  def __len__(self):\n",
    "    return len(self.ds['train'])\n",
    "\n",
    "  def __getitem__(self, idx):\n",
    "    row = self.ds['train'][idx]['text']\n",
    "    input = [self.tk.sp.bos_id()] + self.tk.encode(row)\n",
    "    label = (self.tk.encode(row)) + [self.tk.sp.eos_id()]\n",
    "    return { 'input': torch.tensor(input), 'label': torch.tensor(label) }\n",
    "\n",
    "  def collate_fn(self, batch):\n",
    "    input_pad = torch.nn.utils.rnn.pad_sequence([item['input'] for item in batch], batch_first=True, padding_value=0)\n",
    "    label_pad = torch.nn.utils.rnn.pad_sequence([item['label'] for item in batch], batch_first=True, padding_value=0)\n",
    "    return { 'input': input_pad, 'label': label_pad }\n",
    "\n",
    "#%%\n",
    "if __name__ == '__main__':\n",
    "  ds = TinyDataset()\n",
    "  print('ds.ds', ds.ds)\n",
    "  print('len(ds)', len(ds))\n",
    "  print('ds[362]', ds[362])\n",
    "# %%\n"
   ]
  },
  {
   "cell_type": "code",
   "execution_count": null,
   "id": "70e48305-041c-4811-a30a-5909e6f06b6d",
   "metadata": {},
   "outputs": [],
   "source": []
  }
 ],
 "metadata": {
  "kernelspec": {
   "display_name": "Python 3 (ipykernel)",
   "language": "python",
   "name": "python3"
  },
  "language_info": {
   "codemirror_mode": {
    "name": "ipython",
    "version": 3
   },
   "file_extension": ".py",
   "mimetype": "text/x-python",
   "name": "python",
   "nbconvert_exporter": "python",
   "pygments_lexer": "ipython3",
   "version": "3.11.5"
  }
 },
 "nbformat": 4,
 "nbformat_minor": 5
}
